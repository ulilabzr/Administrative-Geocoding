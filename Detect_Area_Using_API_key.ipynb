{
  "nbformat": 4,
  "nbformat_minor": 0,
  "metadata": {
    "colab": {
      "provenance": [],
      "toc_visible": true
    },
    "kernelspec": {
      "name": "python3",
      "display_name": "Python 3"
    },
    "language_info": {
      "name": "python"
    }
  },
  "cells": [
    {
      "cell_type": "markdown",
      "source": [
        "#ADSMINITRATIVE GEOCODING"
      ],
      "metadata": {
        "id": "mw3J6K7LlmoM"
      }
    },
    {
      "cell_type": "markdown",
      "source": [
        "##Import Dependencies"
      ],
      "metadata": {
        "id": "j2yKaQiAmCWm"
      }
    },
    {
      "cell_type": "code",
      "source": [
        "!pip install pandas requests openpyxl tqdm\n",
        "\n",
        "import pandas as pd\n",
        "import requests\n",
        "from tqdm.notebook import tqdm\n",
        "from google.colab import files"
      ],
      "metadata": {
        "id": "MnGljx7IlmKW"
      },
      "execution_count": null,
      "outputs": []
    },
    {
      "cell_type": "markdown",
      "source": [
        "##Upload File"
      ],
      "metadata": {
        "id": "VMzHf-J6mEnw"
      }
    },
    {
      "cell_type": "code",
      "metadata": {
        "id": "cc885801"
      },
      "source": [
        "uploaded = files.upload()\n",
        "filename = list(uploaded.keys())[0]\n",
        "df = pd.read_excel(filename)"
      ],
      "execution_count": null,
      "outputs": []
    },
    {
      "cell_type": "markdown",
      "source": [
        "##Data Cleaning"
      ],
      "metadata": {
        "id": "18mX4G6imMNB"
      }
    },
    {
      "cell_type": "code",
      "source": [
        "# Clean up column names\n",
        "df.columns = df.columns.str.strip()"
      ],
      "metadata": {
        "id": "hF6bBqR8mSgk"
      },
      "execution_count": null,
      "outputs": []
    },
    {
      "cell_type": "markdown",
      "source": [
        "##Processing Using GMAPS Geocoding API"
      ],
      "metadata": {
        "id": "FSjCFNnsmWMB"
      }
    },
    {
      "cell_type": "code",
      "source": [
        "API_KEY = \"API KEY\"\n",
        "\n",
        "#Function to get administratif Area\n",
        "def get_administrative_info(address):\n",
        "    try:\n",
        "        url = f\"https://maps.googleapis.com/maps/api/geocode/json?address={requests.utils.quote(address)}&key={API_KEY}\"\n",
        "        response = requests.get(url)\n",
        "        data = response.json()\n",
        "        if data[\"status\"] != \"OK\":\n",
        "            return None, None, None, None\n",
        "        comps = data[\"results\"][0][\"address_components\"]\n",
        "\n",
        "        province, kabupaten, kecamatan, kelurahan = None, None, None, None\n",
        "        for comp in comps:\n",
        "            if \"administrative_area_level_1\" in comp[\"types\"]:\n",
        "                province = comp[\"long_name\"]\n",
        "            elif \"administrative_area_level_2\" in comp[\"types\"]:\n",
        "                kabupaten = comp[\"long_name\"]\n",
        "            elif \"administrative_area_level_3\" in comp[\"types\"]:\n",
        "                kecamatan = comp[\"long_name\"]\n",
        "            elif \"administrative_area_level_4\" in comp[\"types\"]:\n",
        "                kelurahan = comp[\"long_name\"]\n",
        "\n",
        "        return province, kabupaten, kecamatan, kelurahan\n",
        "\n",
        "    except Exception as e:\n",
        "        return None, None, None, None\n",
        "\n",
        "provinces, kabupatens, kecamatans, kelurahans = [], [], [], []\n",
        "\n",
        "for addr in tqdm(df[\"- Alamat Store\"], desc=\"Mendeteksi wilayah administratif\"):\n",
        "    if pd.isna(addr):\n",
        "        provinces.append(None)\n",
        "        kabupatens.append(None)\n",
        "        kecamatans.append(None)\n",
        "        kelurahans.append(None)\n",
        "        continue\n",
        "    prov, kab, kec, kel = get_administrative_info(addr)\n",
        "    provinces.append(prov)\n",
        "    kabupatens.append(kab)\n",
        "    kecamatans.append(kec)\n",
        "    kelurahans.append(kel)\n",
        "\n",
        "df[\"Provinsi\"] = provinces\n",
        "df[\"Kabupaten/Kota\"] = kabupatens\n",
        "df[\"Kecamatan\"] = kecamatans\n",
        "df[\"Kelurahan/Desa\"] = kelurahans\n",
        "\n"
      ],
      "metadata": {
        "id": "DMlvzHfEmNUF"
      },
      "execution_count": null,
      "outputs": []
    },
    {
      "cell_type": "markdown",
      "source": [
        "##Export Result"
      ],
      "metadata": {
        "id": "AbwkVyhzmv3x"
      }
    },
    {
      "cell_type": "code",
      "source": [
        "output_name = \"result_geocode.xlsx\"\n",
        "df.to_excel(output_name, index=False)\n",
        "files.download(output_name)"
      ],
      "metadata": {
        "id": "VNYCFTLYmugc"
      },
      "execution_count": null,
      "outputs": []
    }
  ]
}
